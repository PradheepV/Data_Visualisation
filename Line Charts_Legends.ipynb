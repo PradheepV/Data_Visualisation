unrate['MONTH'] = unrate['DATE'].dt.month
unrate['YEAR'] = unrate['DATE'].dt.year
fig = plt.figure(figsize=(10,6))
colors = ['red','blue','green','orange','black']
for i in range(5):
    plt.plot(unrate.loc[unrate['YEAR'] == i+1948, 'MONTH'],unrate.loc[unrate['YEAR'] == i+1948,'VALUE'], c=colors[i],label = i+1948)
plt.legend(loc = "upper left")
plt.show()
