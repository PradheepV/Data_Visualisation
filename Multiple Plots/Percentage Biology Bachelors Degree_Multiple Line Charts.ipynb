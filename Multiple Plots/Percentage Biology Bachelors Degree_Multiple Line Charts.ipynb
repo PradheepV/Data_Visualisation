{
 "cells": [
  {
   "cell_type": "code",
   "execution_count": null,
   "metadata": {},
   "outputs": [],
   "source": [
    "import pandas as pd\n",
    "import matplotlib.pyplot as plt\n",
    "women_degrees = pd.read_csv('percent-bachelors-degrees-women-usa.csv')"
   ]
  },
  {
   "cell_type": "code",
   "execution_count": null,
   "metadata": {},
   "outputs": [],
   "source": [
    "subjects = []\n",
    "subjects = women_degrees.columns\n",
    "for val in subjects:\n",
    "    if val != 'Year':\n",
    "         men_degrees[val] = 100 - women_degrees[val]        "
   ]
  },
  {
   "cell_type": "code",
   "execution_count": null,
   "metadata": {},
   "outputs": [],
   "source": [
    "fig = plt.figure()\n",
    "ax = fig.add_subplot(1,1,1)\n",
    "ax.plot(women_degrees['Year'],women_degrees['Biology'], c=\"blue\", label=\"Women\")\n",
    "ax.plot(men_degrees['Year'],men_degrees['Biology'], c=\"green\", label=\"Men\")\n",
    "plt.legend(loc = \"upper right\")\n",
    "plt.title('Percentage of Biology Degrees Awarded By Gender')\n",
    "plt.show()"
   ]
  },
  {
   "cell_type": "code",
   "execution_count": null,
   "metadata": {},
   "outputs": [],
   "source": []
  }
 ],
 "metadata": {
  "kernelspec": {
   "display_name": "Python 3",
   "language": "python",
   "name": "python3"
  }
 },
 "nbformat": 4,
 "nbformat_minor": 2
}
